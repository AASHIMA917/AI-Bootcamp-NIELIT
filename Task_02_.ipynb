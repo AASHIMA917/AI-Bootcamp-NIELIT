{
  "nbformat": 4,
  "nbformat_minor": 0,
  "metadata": {
    "colab": {
      "provenance": []
    },
    "kernelspec": {
      "name": "python3",
      "display_name": "Python 3"
    },
    "language_info": {
      "name": "python"
    }
  },
  "cells": [
    {
      "cell_type": "code",
      "execution_count": 2,
      "metadata": {
        "colab": {
          "base_uri": "https://localhost:8080/"
        },
        "id": "RsTcdWQjaK47",
        "outputId": "3e77b344-388e-45f6-8e25-acc5bf1c9de3"
      },
      "outputs": [
        {
          "output_type": "stream",
          "name": "stdout",
          "text": [
            "value of sum= 77\n"
          ]
        }
      ],
      "source": [
        "a=56\n",
        "b=21\n",
        "c=a+b\n",
        "print(\"value of sum=\",c)"
      ]
    }
  ]
}